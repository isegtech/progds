{
 "cells": [
  {
   "cell_type": "markdown",
   "metadata": {},
   "source": [
    "# Lab 2\n",
    "(Prof. Carlos J. Costa)"
   ]
  },
  {
   "cell_type": "markdown",
   "metadata": {},
   "source": [
    "**1)**  Construct a list (shoppingList) including 'potatoes', 'carrots', 'cod' and 'sprouts’"
   ]
  },
  {
   "cell_type": "code",
   "execution_count": 36,
   "metadata": {},
   "outputs": [
    {
     "data": {
      "text/plain": [
       "['potatoes', 'carrots', 'cod', 'sprouts']"
      ]
     },
     "execution_count": 36,
     "metadata": {},
     "output_type": "execute_result"
    }
   ],
   "source": [
    "#Code here\n",
    "shoppingList = ['potatoes', 'carrots', 'cod', 'sprouts']\n",
    "shoppingList"
   ]
  },
  {
   "cell_type": "markdown",
   "metadata": {},
   "source": [
    "**2)** Get the second and the last element of the list"
   ]
  },
  {
   "cell_type": "code",
   "execution_count": 37,
   "metadata": {},
   "outputs": [
    {
     "data": {
      "text/plain": [
       "'potatoes and sprouts'"
      ]
     },
     "execution_count": 37,
     "metadata": {},
     "output_type": "execute_result"
    }
   ],
   "source": [
    "#Code here\n",
    "shoppingList[1]+\" and \"+ shoppingList[-1]\n"
   ]
  },
  {
   "cell_type": "markdown",
   "metadata": {},
   "source": [
    "**3)** Iterate though the list"
   ]
  },
  {
   "cell_type": "code",
   "execution_count": 38,
   "metadata": {},
   "outputs": [
    {
     "name": "stdout",
     "output_type": "stream",
     "text": [
      "potatoes\n",
      "carrots\n",
      "cod\n",
      "sprouts\n"
     ]
    }
   ],
   "source": [
    "#Code here\n",
    "\n",
    "for purchase in shoppingList:\n",
    "    print(purchase)\n"
   ]
  },
  {
   "cell_type": "markdown",
   "metadata": {},
   "source": [
    "**4)** Create a new list (studentList)"
   ]
  },
  {
   "cell_type": "code",
   "execution_count": 1,
   "metadata": {},
   "outputs": [],
   "source": [
    "#Code here\n",
    "studentList =[]"
   ]
  },
  {
   "cell_type": "markdown",
   "metadata": {},
   "source": [
    "**5)** Add the follwoing elements to the shoppingList: orange and lime \n"
   ]
  },
  {
   "cell_type": "code",
   "execution_count": 40,
   "metadata": {},
   "outputs": [
    {
     "name": "stdout",
     "output_type": "stream",
     "text": [
      "['potatoes', 'carrots', 'cod', 'sprouts', 'orange', 'lime']\n"
     ]
    }
   ],
   "source": [
    "#Code here\n",
    "shoppingList.append(\"orange\")\n",
    "shoppingList.append(\"lime\")\n",
    "print(shoppingList)"
   ]
  },
  {
   "cell_type": "markdown",
   "metadata": {},
   "source": [
    "**6)** Remove the carrots, the first element and last element of the shoppingList list"
   ]
  },
  {
   "cell_type": "code",
   "execution_count": 41,
   "metadata": {},
   "outputs": [
    {
     "name": "stdout",
     "output_type": "stream",
     "text": [
      "['cod', 'sprouts', 'orange']\n"
     ]
    }
   ],
   "source": [
    "#Code here\n",
    "shoppingList.remove('carrots')\n",
    "del shoppingList[0]\n",
    "shoppingList.pop()\n",
    "\n",
    "\n",
    "print(shoppingList)"
   ]
  },
  {
   "cell_type": "markdown",
   "metadata": {},
   "source": [
    "**7)** Delete the students list"
   ]
  },
  {
   "cell_type": "code",
   "execution_count": 4,
   "metadata": {},
   "outputs": [],
   "source": [
    "#Code here\n",
    "del shoppingList\n",
    "shoppingList"
   ]
  },
  {
   "cell_type": "markdown",
   "metadata": {},
   "source": [
    "**8)** Create a list with the double values os number between 1 and 15.\n"
   ]
  },
  {
   "cell_type": "code",
   "execution_count": 54,
   "metadata": {},
   "outputs": [
    {
     "data": {
      "text/plain": [
       "[2, 4, 6, 8, 10, 12, 14, 16, 18, 20, 22, 24, 26, 28, 30]"
      ]
     },
     "execution_count": 54,
     "metadata": {},
     "output_type": "execute_result"
    }
   ],
   "source": [
    "#Code here\n",
    "\n",
    "squares = [x*2 for x in range(1, 16)]\n",
    "squares\n"
   ]
  },
  {
   "cell_type": "markdown",
   "metadata": {},
   "source": [
    "**9)** Obtain the first 3 elements of the list"
   ]
  },
  {
   "cell_type": "code",
   "execution_count": 57,
   "metadata": {},
   "outputs": [
    {
     "name": "stdout",
     "output_type": "stream",
     "text": [
      "['potatoes', 'carrots', 'cod']\n"
     ]
    }
   ],
   "source": [
    "#Code here\n",
    "shoppingList = ['potatoes', 'carrots', 'cod', 'sprouts']\n",
    "firstThree = shoppingList [: 3]\n",
    "print (firstThree)\n"
   ]
  },
  {
   "cell_type": "code",
   "execution_count": null,
   "metadata": {},
   "outputs": [],
   "source": [
    "#Code here"
   ]
  },
  {
   "cell_type": "markdown",
   "metadata": {},
   "source": [
    "**10)** What is the result of, Why?\n",
    "\n",
    "shopping = shoppingList\n",
    "\n",
    "shoppingListCopy = shoppingList[:]\n",
    "\n",
    "print(shopping)\n"
   ]
  },
  {
   "cell_type": "code",
   "execution_count": 71,
   "metadata": {},
   "outputs": [],
   "source": [
    "#Code here\n"
   ]
  },
  {
   "cell_type": "markdown",
   "metadata": {},
   "source": [
    "**12)** What is the result of, Why?\n",
    "\n",
    "shopping = shoppingList\n",
    "\n",
    "shoppingList.append(\"orange\")\n",
    "\n",
    "print(shopping)"
   ]
  },
  {
   "cell_type": "code",
   "execution_count": 72,
   "metadata": {},
   "outputs": [],
   "source": [
    "#Code here"
   ]
  },
  {
   "cell_type": "markdown",
   "metadata": {},
   "source": [
    "**13)** romove all the items from the shoppingList "
   ]
  },
  {
   "cell_type": "code",
   "execution_count": null,
   "metadata": {},
   "outputs": [],
   "source": [
    "#Code here\n",
    "shoppingList\n",
    "shoppingList.clear()\n",
    "shoppingList"
   ]
  },
  {
   "cell_type": "markdown",
   "metadata": {},
   "source": [
    "**14)** What is the result of, Why?\n",
    "\n",
    "newPurchases= (\"bananas\", \"beans\", \"rice\")\n",
    "\n",
    "print (newPurchases [1])\n",
    "\n",
    "newPurchases [0] = \"apple\"\n"
   ]
  },
  {
   "cell_type": "code",
   "execution_count": 78,
   "metadata": {},
   "outputs": [],
   "source": [
    "#Code here\n",
    "\n"
   ]
  },
  {
   "cell_type": "markdown",
   "metadata": {},
   "source": [
    "**15)** Create a dictionary including the follwoing elements: orange, apple, pear, grape and peach. Key are 1 to 5. Iterate through key-value pair."
   ]
  },
  {
   "cell_type": "code",
   "execution_count": 80,
   "metadata": {},
   "outputs": [
    {
     "name": "stdout",
     "output_type": "stream",
     "text": [
      "1 orange\n",
      "2 apple\n",
      "3 pear\n",
      "4 grape\n",
      "5 peach\n"
     ]
    }
   ],
   "source": [
    "fruitList = {1: 'orange', 2: 'apple', 3: 'pear', 4: 'grape', 5: 'peach'}\n",
    "for number, fruit in fruitList.items(): \n",
    "   print(str(number) + \" \" + fruit )\n"
   ]
  },
  {
   "cell_type": "code",
   "execution_count": null,
   "metadata": {},
   "outputs": [],
   "source": [
    "#Code here"
   ]
  },
  {
   "cell_type": "markdown",
   "metadata": {},
   "source": [
    "**16)** Create a weekList that is composed of several lists, each one corresponding to a day."
   ]
  },
  {
   "cell_type": "code",
   "execution_count": 89,
   "metadata": {},
   "outputs": [
    {
     "data": {
      "text/plain": [
       "[['potatoes', 'carrots', 'cod', 'sprouts'],\n",
       " ['potatoes', 'carrots', 'cod'],\n",
       " ['rice', 'carrots', 'cod'],\n",
       " ['potatoes', 'carrots', 'seitan'],\n",
       " ['potatoes', 'cod', 'sprouts'],\n",
       " ['football']]"
      ]
     },
     "execution_count": 89,
     "metadata": {},
     "output_type": "execute_result"
    }
   ],
   "source": [
    "\n",
    "weekList =[]\n",
    "shoppingListMonday = ['potatoes', 'carrots', 'cod', 'sprouts']\n",
    "shoppingListTuesday = ['potatoes', 'carrots', 'cod']\n",
    "shoppingListWendesnay = ['rice', 'carrots', 'cod']\n",
    "shoppingListThursday = ['potatoes', 'carrots', 'seitan']\n",
    "shoppingListFriday = ['potatoes', 'fish', 'sprouts']\n",
    "shoppingListSaturday = ['potatoes', 'cod', 'sprouts']\n",
    "shoppingListSunday = ['football']\n",
    "weekList.append(shoppingListMonday)\n",
    "weekList.append(shoppingListTuesday)\n",
    "weekList.append(shoppingListWendesnay)\n",
    "weekList.append(shoppingListThursday)\n",
    "weekList.append(shoppingListSaturday)\n",
    "weekList.append(shoppingListSunday)\n",
    "weekList"
   ]
  }
 ],
 "metadata": {
  "kernelspec": {
   "display_name": "Python 3",
   "language": "python",
   "name": "python3"
  },
  "language_info": {
   "codemirror_mode": {
    "name": "ipython",
    "version": 3
   },
   "file_extension": ".py",
   "mimetype": "text/x-python",
   "name": "python",
   "nbconvert_exporter": "python",
   "pygments_lexer": "ipython3",
   "version": "3.7.0"
  }
 },
 "nbformat": 4,
 "nbformat_minor": 2
}
