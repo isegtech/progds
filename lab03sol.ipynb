{
 "cells": [
  {
   "cell_type": "markdown",
   "metadata": {},
   "source": [
    "# Lab 3\n",
    "In the following cell cell you have several list. "
   ]
  },
  {
   "cell_type": "code",
   "execution_count": 110,
   "metadata": {},
   "outputs": [],
   "source": [
    "#list of 007 movies where Sean Connery features James Bond\n",
    "moviesSeanConnery = [\"Dr. No (1962)\",\n",
    "\"From Russia with Love (1963)\",\n",
    "\"Goldfinger (1964)\",\n",
    "\"Thunderball (1965)\",\n",
    "\"You Only Live Twice (1967)\",\n",
    "\"Diamonds Are Forever (1971)\",    \n",
    "\"Never Say Never Again (1983)\"]  \n",
    "\n",
    "#list of 007 movies where David Neven features James Bond\n",
    "moviesDavidNeven=[\"Casino Royale (1967)\"]    \n",
    "\n",
    "#list of 007 movies where George Lazenby features James Bond\n",
    "moviesGeorgeLazenby=[\"On Her Majesty's Secret Service (1969)\"]  \n",
    "          \n",
    "#list of 007 movies where Roger Moore features James Bond   \n",
    "moviesRogerMoore=[ \"Live and Let Die (1973)\",\n",
    "\"The Man with the Golden Gun (1974)\",\n",
    "\"The Spy Who Loved Me (1977)\",\n",
    "\"Moonraker (1979)\",\n",
    "\"For Your Eyes Only (1981)\",\n",
    "\"Octopussy (1983)\",\n",
    "\"A View to a Kill (1985)\"]\n",
    "\n",
    "#list of 007 movies where Timothy Dalton features James Bond  \n",
    "moviesTimothyDalton=[\n",
    "\"The Living Daylights (1987)\",\n",
    "\"Licence to Kill (1989)\"  \n",
    "]\n",
    "\n",
    "#list of 007 movies where Pierce Brosnan features James Bond  \n",
    "moviesPierceBrosnan=[\n",
    "\"GoldenEye (1995)\",\n",
    "\"Tomorrow Never Dies (1997)\",\n",
    "\"The World Is Not Enough (1999)\",\n",
    "\"Die Another Day (2002)\"\n",
    "]\n",
    "\n",
    "#list of 007 movies where Daniel Craig features James Bond \n",
    "moviesDanielCraig=[\"Casino Royale (2006)\",\n",
    "\"Quantum of Solace (2008)\",\n",
    "\"Skyfall (2012)\",\n",
    "\"Spectre (2015)\"]\n"
   ]
  },
  {
   "cell_type": "markdown",
   "metadata": {},
   "source": [
    "**1)** create a list of lists (movies007). The list will be composed by each list of movies featured by each actor."
   ]
  },
  {
   "cell_type": "code",
   "execution_count": 111,
   "metadata": {},
   "outputs": [],
   "source": [
    "movies007=[]\n",
    "movies007.append(moviesSeanConnery)\n",
    "movies007.append(moviesDavidNeven)\n",
    "movies007.append(moviesGeorgeLazenby)\n",
    "movies007.append(moviesRogerMoore)\n",
    "movies007.append(moviesTimothyDalton)\n",
    "movies007.append(moviesPierceBrosnan)\n",
    "movies007.append(moviesDanielCraig)"
   ]
  },
  {
   "cell_type": "code",
   "execution_count": 114,
   "metadata": {},
   "outputs": [
    {
     "data": {
      "text/plain": [
       "0"
      ]
     },
     "execution_count": 114,
     "metadata": {},
     "output_type": "execute_result"
    }
   ],
   "source": []
  },
  {
   "cell_type": "markdown",
   "metadata": {},
   "source": [
    "**2)** How many movies were played by the first actor to play James Bond?"
   ]
  },
  {
   "cell_type": "code",
   "execution_count": 65,
   "metadata": {},
   "outputs": [
    {
     "data": {
      "text/plain": [
       "['Dr. No (1962)',\n",
       " 'From Russia with Love (1963)',\n",
       " 'Goldfinger (1964)',\n",
       " 'Thunderball (1965)',\n",
       " 'You Only Live Twice (1967)',\n",
       " 'Diamonds Are Forever (1971)',\n",
       " 'Never Say Never Again (1983)']"
      ]
     },
     "execution_count": 65,
     "metadata": {},
     "output_type": "execute_result"
    }
   ],
   "source": [
    "movies007[0]"
   ]
  },
  {
   "cell_type": "code",
   "execution_count": 66,
   "metadata": {},
   "outputs": [
    {
     "data": {
      "text/plain": [
       "7"
      ]
     },
     "execution_count": 66,
     "metadata": {},
     "output_type": "execute_result"
    }
   ],
   "source": [
    "len(movies007[0])\n"
   ]
  },
  {
   "cell_type": "markdown",
   "metadata": {},
   "source": [
    "**3)** How many movies were played by the last actor to play James Bond?"
   ]
  },
  {
   "cell_type": "code",
   "execution_count": 67,
   "metadata": {},
   "outputs": [
    {
     "data": {
      "text/plain": [
       "['Casino Royale (2006)',\n",
       " 'Quantum of Solace (2008)',\n",
       " 'Skyfall (2012)',\n",
       " 'Spectre (2015)']"
      ]
     },
     "execution_count": 67,
     "metadata": {},
     "output_type": "execute_result"
    }
   ],
   "source": [
    "movies007[-1]"
   ]
  },
  {
   "cell_type": "code",
   "execution_count": 68,
   "metadata": {},
   "outputs": [
    {
     "data": {
      "text/plain": [
       "4"
      ]
     },
     "execution_count": 68,
     "metadata": {},
     "output_type": "execute_result"
    }
   ],
   "source": [
    "len(movies007[-1])"
   ]
  },
  {
   "cell_type": "markdown",
   "metadata": {},
   "source": [
    "**4)** How many actors played the role of James Bond?"
   ]
  },
  {
   "cell_type": "code",
   "execution_count": 69,
   "metadata": {},
   "outputs": [
    {
     "data": {
      "text/plain": [
       "7"
      ]
     },
     "execution_count": 69,
     "metadata": {},
     "output_type": "execute_result"
    }
   ],
   "source": [
    "len(movies007)"
   ]
  },
  {
   "cell_type": "markdown",
   "metadata": {},
   "source": [
    "**5)**  Create a new list with the number of movies played by each actor"
   ]
  },
  {
   "cell_type": "code",
   "execution_count": 128,
   "metadata": {},
   "outputs": [],
   "source": [
    "numberMovies=[len(movies007[0]),len(movies007[1]),len(movies007[2]),len(movies007[3]),len(movies007[4]),len(movies007[5]),len(movies007[6])]"
   ]
  },
  {
   "cell_type": "code",
   "execution_count": 129,
   "metadata": {},
   "outputs": [
    {
     "data": {
      "text/plain": [
       "[7, 1, 1, 7, 2, 4, 4]"
      ]
     },
     "execution_count": 129,
     "metadata": {},
     "output_type": "execute_result"
    }
   ],
   "source": [
    "numberMovies"
   ]
  },
  {
   "cell_type": "code",
   "execution_count": 131,
   "metadata": {},
   "outputs": [
    {
     "data": {
      "text/plain": [
       "2"
      ]
     },
     "execution_count": 131,
     "metadata": {},
     "output_type": "execute_result"
    }
   ],
   "source": [
    "numberMovies.count(max(numberMovies))"
   ]
  },
  {
   "cell_type": "code",
   "execution_count": null,
   "metadata": {},
   "outputs": [],
   "source": [
    "(numberMovies)"
   ]
  },
  {
   "cell_type": "markdown",
   "metadata": {},
   "source": [
    "**6)**  How many movies were played by the actor who appeared most often in movies?"
   ]
  },
  {
   "cell_type": "code",
   "execution_count": 71,
   "metadata": {},
   "outputs": [
    {
     "data": {
      "text/plain": [
       "7"
      ]
     },
     "execution_count": 71,
     "metadata": {},
     "output_type": "execute_result"
    }
   ],
   "source": [
    "max(numberMovies)"
   ]
  },
  {
   "cell_type": "markdown",
   "metadata": {},
   "source": [
    "**7)**  How many movies were played by the actor who appeared in fewer movies?"
   ]
  },
  {
   "cell_type": "code",
   "execution_count": 72,
   "metadata": {},
   "outputs": [
    {
     "data": {
      "text/plain": [
       "1"
      ]
     },
     "execution_count": 72,
     "metadata": {},
     "output_type": "execute_result"
    }
   ],
   "source": [
    "min(numberMovies)"
   ]
  },
  {
   "cell_type": "markdown",
   "metadata": {},
   "source": [
    "**8)**  Create a new list (movies007a) with all the films. "
   ]
  },
  {
   "cell_type": "code",
   "execution_count": 95,
   "metadata": {},
   "outputs": [],
   "source": [
    "movies007a=[]\n",
    "movies007a.extend(moviesSeanConnery)\n",
    "movies007a.extend(moviesDavidNeven)\n",
    "movies007a.extend(moviesGeorgeLazenby)\n",
    "movies007a.extend(moviesRogerMoore)\n",
    "movies007a.extend(moviesTimothyDalton)\n",
    "movies007a.extend(moviesPierceBrosnan)\n",
    "movies007a.extend(moviesDanielCraig)"
   ]
  },
  {
   "cell_type": "code",
   "execution_count": 96,
   "metadata": {},
   "outputs": [
    {
     "data": {
      "text/plain": [
       "['Dr. No (1962)',\n",
       " 'From Russia with Love (1963)',\n",
       " 'Goldfinger (1964)',\n",
       " 'Thunderball (1965)',\n",
       " 'You Only Live Twice (1967)',\n",
       " 'Diamonds Are Forever (1971)',\n",
       " 'Never Say Never Again (1983)',\n",
       " 'Casino Royale (1967)',\n",
       " \"On Her Majesty's Secret Service (1969)\",\n",
       " 'Live and Let Die (1973)',\n",
       " 'The Man with the Golden Gun (1974)',\n",
       " 'The Spy Who Loved Me (1977)',\n",
       " 'Moonraker (1979)',\n",
       " 'For Your Eyes Only (1981)',\n",
       " 'Octopussy (1983)',\n",
       " 'A View to a Kill (1985)',\n",
       " 'The Living Daylights (1987)',\n",
       " 'Licence to Kill (1989)',\n",
       " 'GoldenEye (1995)',\n",
       " 'Tomorrow Never Dies (1997)',\n",
       " 'The World Is Not Enough (1999)',\n",
       " 'Die Another Day (2002)',\n",
       " 'Casino Royale (2006)',\n",
       " 'Quantum of Solace (2008)',\n",
       " 'Skyfall (2012)',\n",
       " 'Spectre (2015)']"
      ]
     },
     "execution_count": 96,
     "metadata": {},
     "output_type": "execute_result"
    }
   ],
   "source": [
    "movies007a"
   ]
  },
  {
   "cell_type": "markdown",
   "metadata": {},
   "source": [
    "**9)** Sort the elements of the list "
   ]
  },
  {
   "cell_type": "code",
   "execution_count": 88,
   "metadata": {},
   "outputs": [],
   "source": [
    "movies007a.sort()"
   ]
  },
  {
   "cell_type": "code",
   "execution_count": 89,
   "metadata": {},
   "outputs": [
    {
     "data": {
      "text/plain": [
       "['A View to a Kill (1985)',\n",
       " 'Casino Royale (1967)',\n",
       " 'Casino Royale (2006)',\n",
       " 'Diamonds Are Forever (1971)',\n",
       " 'Die Another Day (2002)',\n",
       " 'Dr. No (1962)',\n",
       " 'For Your Eyes Only (1981)',\n",
       " 'From Russia with Love (1963)',\n",
       " 'GoldenEye (1995)',\n",
       " 'Goldfinger (1964)',\n",
       " 'Licence to Kill (1989)',\n",
       " 'Live and Let Die (1973)',\n",
       " 'Moonraker (1979)',\n",
       " 'Never Say Never Again (1983)',\n",
       " 'Octopussy (1983)',\n",
       " \"On Her Majesty's Secret Service (1969)\",\n",
       " 'Quantum of Solace (2008)',\n",
       " 'Skyfall (2012)',\n",
       " 'Spectre (2015)',\n",
       " 'The Living Daylights (1987)',\n",
       " 'The Man with the Golden Gun (1974)',\n",
       " 'The Spy Who Loved Me (1977)',\n",
       " 'The World Is Not Enough (1999)',\n",
       " 'Thunderball (1965)',\n",
       " 'Tomorrow Never Dies (1997)',\n",
       " 'You Only Live Twice (1967)']"
      ]
     },
     "execution_count": 89,
     "metadata": {},
     "output_type": "execute_result"
    }
   ],
   "source": [
    "movies007a"
   ]
  },
  {
   "cell_type": "markdown",
   "metadata": {},
   "source": [
    "**9)** Reverse the order of the list. What will happen if this method is executed twice? Does this method sort the list if it is not sorted?"
   ]
  },
  {
   "cell_type": "code",
   "execution_count": 97,
   "metadata": {},
   "outputs": [],
   "source": [
    "movies007a.reverse()"
   ]
  },
  {
   "cell_type": "code",
   "execution_count": 115,
   "metadata": {},
   "outputs": [
    {
     "data": {
      "text/plain": [
       "['Spectre (2015)',\n",
       " 'Skyfall (2012)',\n",
       " 'Quantum of Solace (2008)',\n",
       " 'Casino Royale (2006)',\n",
       " 'Die Another Day (2002)',\n",
       " 'The World Is Not Enough (1999)',\n",
       " 'Tomorrow Never Dies (1997)',\n",
       " 'GoldenEye (1995)',\n",
       " 'Licence to Kill (1989)',\n",
       " 'The Living Daylights (1987)',\n",
       " 'A View to a Kill (1985)',\n",
       " 'Octopussy (1983)',\n",
       " 'For Your Eyes Only (1981)',\n",
       " 'Moonraker (1979)',\n",
       " 'The Spy Who Loved Me (1977)',\n",
       " 'The Man with the Golden Gun (1974)',\n",
       " 'Live and Let Die (1973)',\n",
       " \"On Her Majesty's Secret Service (1969)\",\n",
       " 'Casino Royale (1967)',\n",
       " 'Never Say Never Again (1983)',\n",
       " 'Diamonds Are Forever (1971)',\n",
       " 'You Only Live Twice (1967)',\n",
       " 'Thunderball (1965)',\n",
       " 'Goldfinger (1964)',\n",
       " 'From Russia with Love (1963)',\n",
       " 'Dr. No (1962)']"
      ]
     },
     "execution_count": 115,
     "metadata": {},
     "output_type": "execute_result"
    }
   ],
   "source": [
    "movies007a"
   ]
  },
  {
   "cell_type": "markdown",
   "metadata": {},
   "source": [
    "**10)** What is the index of the movie \"Spectre (2015)\" in the list of movies"
   ]
  },
  {
   "cell_type": "code",
   "execution_count": 117,
   "metadata": {},
   "outputs": [
    {
     "data": {
      "text/plain": [
       "0"
      ]
     },
     "execution_count": 117,
     "metadata": {},
     "output_type": "execute_result"
    }
   ],
   "source": [
    "movies007a.index(\"Spectre (2015)\")"
   ]
  },
  {
   "cell_type": "markdown",
   "metadata": {},
   "source": [
    "**11)** Add the movie \"007 and the bad Guy of the climate change (2020)\" in the 11th position."
   ]
  },
  {
   "cell_type": "code",
   "execution_count": 125,
   "metadata": {},
   "outputs": [],
   "source": [
    "movies007a.insert(10,\"007 and the bad Guy of the climate change (2020)\")"
   ]
  },
  {
   "cell_type": "code",
   "execution_count": 126,
   "metadata": {},
   "outputs": [
    {
     "data": {
      "text/plain": [
       "['Spectre (2015)',\n",
       " 'Skyfall (2012)',\n",
       " 'Quantum of Solace (2008)',\n",
       " 'Casino Royale (2006)',\n",
       " 'Die Another Day (2002)',\n",
       " 'The World Is Not Enough (1999)',\n",
       " 'Tomorrow Never Dies (1997)',\n",
       " 'GoldenEye (1995)',\n",
       " 'Licence to Kill (1989)',\n",
       " 'The Living Daylights (1987)',\n",
       " '007 and the bad Guy of the climate change (2020)',\n",
       " 'A View to a Kill (1985)',\n",
       " 'Octopussy (1983)',\n",
       " 'For Your Eyes Only (1981)',\n",
       " 'Moonraker (1979)',\n",
       " 'The Spy Who Loved Me (1977)',\n",
       " 'The Man with the Golden Gun (1974)',\n",
       " 'Live and Let Die (1973)',\n",
       " \"On Her Majesty's Secret Service (1969)\",\n",
       " 'Casino Royale (1967)',\n",
       " 'Never Say Never Again (1983)',\n",
       " 'Diamonds Are Forever (1971)',\n",
       " 'You Only Live Twice (1967)',\n",
       " 'Thunderball (1965)',\n",
       " 'Goldfinger (1964)',\n",
       " 'From Russia with Love (1963)',\n",
       " 'Dr. No (1962)']"
      ]
     },
     "execution_count": 126,
     "metadata": {},
     "output_type": "execute_result"
    }
   ],
   "source": [
    "movies007a"
   ]
  },
  {
   "cell_type": "markdown",
   "metadata": {},
   "source": [
    "**12)** It was a mistake. Remove the movie \"007 and the bad Guy of the climate change (2020)\""
   ]
  },
  {
   "cell_type": "code",
   "execution_count": 127,
   "metadata": {},
   "outputs": [],
   "source": [
    "movies007a.remove(\"007 and the bad Guy of the climate change (2020)\")"
   ]
  },
  {
   "cell_type": "code",
   "execution_count": null,
   "metadata": {},
   "outputs": [],
   "source": []
  }
 ],
 "metadata": {
  "kernelspec": {
   "display_name": "Python 3",
   "language": "python",
   "name": "python3"
  },
  "language_info": {
   "codemirror_mode": {
    "name": "ipython",
    "version": 3
   },
   "file_extension": ".py",
   "mimetype": "text/x-python",
   "name": "python",
   "nbconvert_exporter": "python",
   "pygments_lexer": "ipython3",
   "version": "3.7.0"
  }
 },
 "nbformat": 4,
 "nbformat_minor": 2
}
